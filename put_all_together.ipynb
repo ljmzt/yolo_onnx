{
 "cells": [
  {
   "cell_type": "code",
   "execution_count": null,
   "id": "58c513f4-daca-4666-934c-aca19f411be9",
   "metadata": {},
   "outputs": [],
   "source": [
    "from mytransforms import PasteImage\n",
    "from torchvision import transforms as T\n",
    "import cv2\n",
    "import torch\n",
    "from mydisplay import mydisplay"
   ]
  },
  {
   "cell_type": "code",
   "execution_count": null,
   "id": "ecad4437-4e5b-45f5-b5e0-38c2f98f7ffa",
   "metadata": {},
   "outputs": [],
   "source": [
    "from yolomodel import MyTinyYolo\n",
    "model = MyTinyYolo()\n",
    "model.load()\n",
    "model.eval();"
   ]
  },
  {
   "cell_type": "code",
   "execution_count": null,
   "id": "d5dc8462-97c9-44d9-973f-2405129b1451",
   "metadata": {},
   "outputs": [],
   "source": [
    "from converter import Converter\n",
    "converter = Converter(13, 13, 20, 5, model)"
   ]
  },
  {
   "cell_type": "code",
   "execution_count": null,
   "id": "87c779e7-4988-40d4-9c93-c6ff1ea1034b",
   "metadata": {},
   "outputs": [],
   "source": [
    "preprocess = T.Compose([\n",
    "    T.ToTensor(),\n",
    "    T.Resize(416),\n",
    "    PasteImage(416) # somewhat surprising that the input has to be the same size as training, otherwise it's pretty bad\n",
    "])"
   ]
  },
  {
   "cell_type": "code",
   "execution_count": null,
   "id": "ee380f43-f9c5-4438-98ec-fc1e1bc29c7d",
   "metadata": {},
   "outputs": [],
   "source": [
    "vid = cv2.VideoCapture(0)\n",
    "while True:\n",
    "    ret, frame = vid.read()\n",
    "\n",
    "    img = preprocess(cv2.cvtColor(frame, cv2.COLOR_BGR2RGB))\n",
    "    with torch.no_grad():\n",
    "        grid_output = model(img.unsqueeze(dim=0)).squeeze(dim=0)\n",
    "    bbox_output, class_output, p_output = converter.grid_to_bbox(grid_output, cmin=0.5)\n",
    "    bbox_sv, class_sv, p_sv = converter.nonmax_compressed(bbox_output, class_output, p_output)\n",
    "\n",
    "    for bbox, class_name, p in zip(bbox_sv, class_sv, p_sv):\n",
    "        H, W = img.shape[-2:]\n",
    "        frame_H, frame_W = frame.shape[:2]\n",
    "        hx, hy, hw, hh = bbox\n",
    "        hh = frame_W / frame_H * hh\n",
    "        hy = (hy - 0.5) * frame_W / frame_H + 0.5\n",
    "        xmin = int((hx - 0.5 * hw) * frame_W)\n",
    "        xmin = max(0, xmin)\n",
    "        xmax = int((hx + 0.5 * hw) * frame_W)\n",
    "        xmax = min(frame_W, xmax)\n",
    "        ymin = int((hy - 0.5 * hh) * frame_H)\n",
    "        ymin = max(0, ymin)\n",
    "        ymax = int((hy + 0.5 * hh) * frame_H)\n",
    "        ymax = min(frame_W, ymax)\n",
    "        if class_name == 'cat':\n",
    "            color = (0,255,0)\n",
    "        elif class_name == 'person':\n",
    "            color = (255,0,0)\n",
    "        else:\n",
    "            color = (255,255,255)\n",
    "        cv2.rectangle(frame, (xmin,ymin), (xmax,ymax), color=color, thickness=5)\n",
    "        text = \"{0:s} {1:5.3f}\".format(class_name, p)\n",
    "        cv2.putText(frame, text, (xmin,int(ymin*1.1)), cv2.FONT_HERSHEY_SIMPLEX, 1.0, color, 5)\n",
    "    cv2.imshow('mycamera', frame)\n",
    "\n",
    "    if cv2.waitKey(1) == ord('q'):\n",
    "        cv2.destroyAllWindows() \n",
    "        vid.release()\n",
    "        break"
   ]
  },
  {
   "cell_type": "code",
   "execution_count": null,
   "id": "bf45e21b-a3d9-4b3b-a069-9e0a57473dca",
   "metadata": {},
   "outputs": [],
   "source": [
    "# show the last frame to double check\n",
    "mydisplay(img, bbox_sv, class_sv, p_sv)"
   ]
  }
 ],
 "metadata": {
  "kernelspec": {
   "display_name": "Python 3 (ipykernel)",
   "language": "python",
   "name": "python3"
  },
  "language_info": {
   "codemirror_mode": {
    "name": "ipython",
    "version": 3
   },
   "file_extension": ".py",
   "mimetype": "text/x-python",
   "name": "python",
   "nbconvert_exporter": "python",
   "pygments_lexer": "ipython3",
   "version": "3.9.18"
  }
 },
 "nbformat": 4,
 "nbformat_minor": 5
}
